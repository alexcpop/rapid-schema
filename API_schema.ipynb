{
 "cells": [
  {
   "cell_type": "code",
   "execution_count": 9,
   "metadata": {},
   "outputs": [
    {
     "ename": "ImportError",
     "evalue": "cannot import name 'AuthenticationErrorException' from 'rapid' (/Users/alexandra.pop/opt/anaconda3/envs/rapid/lib/python3.10/site-packages/rapid/__init__.py)",
     "output_type": "error",
     "traceback": [
      "\u001b[0;31m---------------------------------------------------------------------------\u001b[0m",
      "\u001b[0;31mImportError\u001b[0m                               Traceback (most recent call last)",
      "Cell \u001b[0;32mIn[9], line 10\u001b[0m\n\u001b[1;32m      8\u001b[0m load_dotenv()\n\u001b[1;32m      9\u001b[0m \u001b[38;5;28;01mfrom\u001b[39;00m \u001b[38;5;21;01mrapid\u001b[39;00m \u001b[38;5;28;01mimport\u001b[39;00m Rapid\n\u001b[0;32m---> 10\u001b[0m \u001b[38;5;28;01mfrom\u001b[39;00m \u001b[38;5;21;01mrapid\u001b[39;00m \u001b[38;5;28;01mimport\u001b[39;00m RapidAuth, AuthenticationErrorException\n\u001b[1;32m     11\u001b[0m \u001b[38;5;28;01mfrom\u001b[39;00m \u001b[38;5;21;01mrapid\u001b[39;00m\u001b[38;5;21;01m.\u001b[39;00m\u001b[38;5;21;01mitems\u001b[39;00m\u001b[38;5;21;01m.\u001b[39;00m\u001b[38;5;21;01mschema\u001b[39;00m \u001b[38;5;28;01mimport\u001b[39;00m SchemaMetadata, SensitivityLevel, Owner, Column\n\u001b[1;32m     12\u001b[0m \u001b[38;5;28;01mfrom\u001b[39;00m \u001b[38;5;21;01mrapid\u001b[39;00m\u001b[38;5;21;01m.\u001b[39;00m\u001b[38;5;21;01mexceptions\u001b[39;00m \u001b[38;5;28;01mimport\u001b[39;00m ColumnNotDifferentException, DataFrameUploadValidationException\n",
      "\u001b[0;31mImportError\u001b[0m: cannot import name 'AuthenticationErrorException' from 'rapid' (/Users/alexandra.pop/opt/anaconda3/envs/rapid/lib/python3.10/site-packages/rapid/__init__.py)"
     ]
    }
   ],
   "source": [
    "# Packages\n",
    "\n",
    "import pandas as pd\n",
    "import requests\n",
    "import json\n",
    "from dotenv import load_dotenv\n",
    "import os\n",
    "load_dotenv()\n",
    "from rapid import Rapid\n",
    "from rapid import RapidAuth\n",
    "from rapid.items.schema import SchemaMetadata, SensitivityLevel, Owner, Column\n",
    "from rapid.exceptions import ColumnNotDifferentException, DataFrameUploadValidationException\n",
    "from rapid.patterns import dataset"
   ]
  },
  {
   "cell_type": "code",
   "execution_count": null,
   "metadata": {},
   "outputs": [],
   "source": [
    "# Load environment variables from .env file\n",
    "load_dotenv()\n",
    "\n",
    "# Retrieve the variables from the environment\n",
    "client_id = os.getenv('RAPID_CLIENT_ID')\n",
    "client_secret = os.getenv('RAPID_CLIENT_SECRET')\n",
    "api_url = os.getenv('RAPID_URL')\n",
    "\n",
    "# Print to verify the values are loaded\n",
    "print(f\"CLIENT_ID: {client_id}\")\n",
    "print(f\"CLIENT_SECRET: {client_secret}\")\n",
    "print(f\"API_URL: {api_url}\")\n",
    "\n",
    "# Initialize the RapidAuth class with the environment variables\n",
    "try:\n",
    "    auth = RapidAuth(client_id=client_id, client_secret=client_secret, url=api_url)\n",
    "    auth.validate_credentials()\n",
    "    print(\"Authentication successful\")\n",
    "except AuthenticationErrorException as e:\n",
    "    print(f\"Authentication failed: {e}\")"
   ]
  },
  {
   "cell_type": "code",
   "execution_count": 8,
   "metadata": {},
   "outputs": [
    {
     "ename": "AuthenticationErrorException",
     "evalue": "Auth not configured, could not connect to instance of rAPId",
     "output_type": "error",
     "traceback": [
      "\u001b[0;31m---------------------------------------------------------------------------\u001b[0m",
      "\u001b[0;31mAuthenticationErrorException\u001b[0m              Traceback (most recent call last)",
      "Cell \u001b[0;32mIn[8], line 2\u001b[0m\n\u001b[1;32m      1\u001b[0m \u001b[38;5;66;03m# Connect to the API\u001b[39;00m\n\u001b[0;32m----> 2\u001b[0m rapid_authentication \u001b[38;5;241m=\u001b[39m \u001b[43mRapidAuth\u001b[49m\u001b[43m(\u001b[49m\u001b[43m)\u001b[49m\n\u001b[1;32m      4\u001b[0m rapid \u001b[38;5;241m=\u001b[39m Rapid(auth\u001b[38;5;241m=\u001b[39mrapid_authentication)\n",
      "File \u001b[0;32m~/opt/anaconda3/envs/rapid/lib/python3.10/site-packages/rapid/auth.py:32\u001b[0m, in \u001b[0;36mRapidAuth.__init__\u001b[0;34m(self, client_id, client_secret, url)\u001b[0m\n\u001b[1;32m     30\u001b[0m \u001b[38;5;28mself\u001b[39m\u001b[38;5;241m.\u001b[39mclient_secret \u001b[38;5;241m=\u001b[39m \u001b[38;5;28mself\u001b[39m\u001b[38;5;241m.\u001b[39mevaluate_inputs(client_secret, RAPID_CLIENT_SECRET)\n\u001b[1;32m     31\u001b[0m \u001b[38;5;28mself\u001b[39m\u001b[38;5;241m.\u001b[39murl \u001b[38;5;241m=\u001b[39m \u001b[38;5;28mself\u001b[39m\u001b[38;5;241m.\u001b[39mevaluate_inputs(url, RAPID_URL)\n\u001b[0;32m---> 32\u001b[0m \u001b[38;5;28;43mself\u001b[39;49m\u001b[38;5;241;43m.\u001b[39;49m\u001b[43mvalidate_credentials\u001b[49m\u001b[43m(\u001b[49m\u001b[43m)\u001b[49m\n",
      "File \u001b[0;32m~/opt/anaconda3/envs/rapid/lib/python3.10/site-packages/rapid/auth.py:78\u001b[0m, in \u001b[0;36mRapidAuth.validate_credentials\u001b[0;34m(self)\u001b[0m\n\u001b[1;32m     68\u001b[0m \u001b[38;5;250m\u001b[39m\u001b[38;5;124;03m\"\"\"\u001b[39;00m\n\u001b[1;32m     69\u001b[0m \u001b[38;5;124;03mTests authentication to the rAPId API.\u001b[39;00m\n\u001b[1;32m     70\u001b[0m \n\u001b[0;32m   (...)\u001b[0m\n\u001b[1;32m     75\u001b[0m \u001b[38;5;124;03m    None: If authentication was successful.\u001b[39;00m\n\u001b[1;32m     76\u001b[0m \u001b[38;5;124;03m\"\"\"\u001b[39;00m\n\u001b[1;32m     77\u001b[0m \u001b[38;5;28;01mif\u001b[39;00m \u001b[38;5;28mself\u001b[39m\u001b[38;5;241m.\u001b[39mrequest_token()\u001b[38;5;241m.\u001b[39mstatus_code \u001b[38;5;241m!=\u001b[39m \u001b[38;5;241m200\u001b[39m:\n\u001b[0;32m---> 78\u001b[0m     \u001b[38;5;28;01mraise\u001b[39;00m AuthenticationErrorException(\n\u001b[1;32m     79\u001b[0m         \u001b[38;5;124m\"\u001b[39m\u001b[38;5;124mAuth not configured, could not connect to instance of rAPId\u001b[39m\u001b[38;5;124m\"\u001b[39m\n\u001b[1;32m     80\u001b[0m     )\n",
      "\u001b[0;31mAuthenticationErrorException\u001b[0m: Auth not configured, could not connect to instance of rAPId"
     ]
    }
   ],
   "source": [
    "# Connect to the API\n",
    "rapid_authentication = RapidAuth()\n",
    "\n",
    "rapid = Rapid(auth=rapid_authentication)"
   ]
  },
  {
   "cell_type": "code",
   "execution_count": 3,
   "metadata": {},
   "outputs": [],
   "source": [
    "# Create and upload schema\n",
    "\n",
    "\n",
    "raw_data = [{\"a\": 1, \"b\": 2, \"c\": 3}, {\"a\": 10, \"b\": 20, \"c\": 30}]\n",
    "df = pd.DataFrame(raw_data)\n",
    "\n",
    "metadata = SchemaMetadata(\n",
    "    layer=\"default\",\n",
    "    domain=\"test\",\n",
    "    dataset=\"test_dummy\",\n",
    "    owners=[Owner(name=\"Alex P\", email=\"alexandra.pop@digital.cabinet-office.gov.uk\")],\n",
    "    sensitivity=SensitivityLevel.PUBLIC.value,\n",
    ")\n",
    "\n",
    "try:\n",
    "    dataset.upload_and_create_dataset(\n",
    "        rapid=rapid,\n",
    "        df=df,\n",
    "        metadata=metadata,\n",
    "        upgrade_schema_on_fail=False,\n",
    "    )\n",
    "except ColumnNotDifferentException:\n",
    "    print(\"Columns not different.\")"
   ]
  },
  {
   "cell_type": "code",
   "execution_count": 9,
   "metadata": {},
   "outputs": [],
   "source": [
    "# Update schema with upload\n",
    "\n",
    "\n",
    "raw_data = [{\"a\": 6, \"b\": 7, \"c\": 2}, {\"a\": 11, \"b\": 24, \"c\": 43}]\n",
    "df = pd.DataFrame(raw_data)\n",
    "\n",
    "try:\n",
    "    response= rapid.upload_dataframe(\n",
    "        layer=\"default\",\n",
    "        domain=\"test\",\n",
    "        dataset=\"test_dummy\",\n",
    "        df=df,\n",
    "        wait_to_complete=True\n",
    "    )\n",
    "except ColumnNotDifferentException:\n",
    "    print(\"Columns not different.\")"
   ]
  },
  {
   "cell_type": "code",
   "execution_count": 11,
   "metadata": {},
   "outputs": [],
   "source": [
    "# Fetch dataset info from API\n",
    "\n",
    "data = rapid.fetch_dataset_info(\n",
    "        layer=\"default\", domain=\"test\", dataset=\"test_dummy\")\n"
   ]
  },
  {
   "cell_type": "code",
   "execution_count": 12,
   "metadata": {},
   "outputs": [
    {
     "data": {
      "text/plain": [
       "{'metadata': {'layer': 'default',\n",
       "  'domain': 'test',\n",
       "  'dataset': 'test_dummy',\n",
       "  'version': 1,\n",
       "  'sensitivity': 'PUBLIC',\n",
       "  'description': '',\n",
       "  'key_value_tags': {},\n",
       "  'key_only_tags': [],\n",
       "  'owners': [{'name': 'Alex P',\n",
       "    'email': 'alexandra.pop@digital.cabinet-office.gov.uk'}],\n",
       "  'update_behaviour': 'APPEND',\n",
       "  'is_latest_version': True,\n",
       "  'number_of_rows': 8,\n",
       "  'number_of_columns': 3,\n",
       "  'last_updated': 'Never updated'},\n",
       " 'columns': [{'name': 'a',\n",
       "   'partition_index': None,\n",
       "   'data_type': 'int',\n",
       "   'allow_null': True,\n",
       "   'format': None,\n",
       "   'statistics': None},\n",
       "  {'name': 'b',\n",
       "   'partition_index': None,\n",
       "   'data_type': 'int',\n",
       "   'allow_null': True,\n",
       "   'format': None,\n",
       "   'statistics': None},\n",
       "  {'name': 'c',\n",
       "   'partition_index': None,\n",
       "   'data_type': 'int',\n",
       "   'allow_null': True,\n",
       "   'format': None,\n",
       "   'statistics': None}]}"
      ]
     },
     "execution_count": 12,
     "metadata": {},
     "output_type": "execute_result"
    }
   ],
   "source": [
    "data"
   ]
  },
  {
   "cell_type": "code",
   "execution_count": null,
   "metadata": {},
   "outputs": [],
   "source": [
    "# Delete test_dummy dataset\n",
    "\n",
    "\n"
   ]
  },
  {
   "cell_type": "code",
   "execution_count": 15,
   "metadata": {},
   "outputs": [
    {
     "name": "stdout",
     "output_type": "stream",
     "text": [
      "<class 'pandas.core.frame.DataFrame'>\n",
      "Index: 8 entries, 0 to 7\n",
      "Data columns (total 3 columns):\n",
      " #   Column  Non-Null Count  Dtype\n",
      "---  ------  --------------  -----\n",
      " 0   a       8 non-null      int64\n",
      " 1   b       8 non-null      int64\n",
      " 2   c       8 non-null      int64\n",
      "dtypes: int64(3)\n",
      "memory usage: 256.0 bytes\n"
     ]
    },
    {
     "name": "stderr",
     "output_type": "stream",
     "text": [
      "/Users/alexandra.pop/opt/anaconda3/envs/rapid/lib/python3.10/site-packages/rapid/rapid.py:140: FutureWarning: Passing literal json to 'read_json' is deprecated and will be removed in a future version. To read from a literal string, wrap it in a 'StringIO' object.\n",
      "  return pd.read_json(json.dumps(data), orient=\"index\")\n"
     ]
    }
   ],
   "source": [
    "# Download dataset\n",
    "\n",
    "data = rapid.download_dataframe(\n",
    "        layer=\"default\", domain=\"test\", dataset=\"test_dummy\", version=1)\n"
   ]
  },
  {
   "cell_type": "code",
   "execution_count": 18,
   "metadata": {},
   "outputs": [
    {
     "name": "stdout",
     "output_type": "stream",
     "text": [
      "<class 'pandas.core.frame.DataFrame'>\n",
      "Index: 8 entries, 0 to 7\n",
      "Data columns (total 3 columns):\n",
      " #   Column  Non-Null Count  Dtype\n",
      "---  ------  --------------  -----\n",
      " 0   a       8 non-null      int64\n",
      " 1   b       8 non-null      int64\n",
      " 2   c       8 non-null      int64\n",
      "dtypes: int64(3)\n",
      "memory usage: 256.0 bytes\n"
     ]
    }
   ],
   "source": [
    "data.info()"
   ]
  },
  {
   "cell_type": "code",
   "execution_count": 19,
   "metadata": {},
   "outputs": [
    {
     "name": "stdout",
     "output_type": "stream",
     "text": [
      "    a   b   c\n",
      "0   1   2   3\n",
      "1  10  20  30\n",
      "2   6   7   2\n",
      "3  11  24  43\n",
      "4   6   7   2\n",
      "5   1   2   3\n",
      "6  10  20  30\n",
      "7  11  24  43\n"
     ]
    }
   ],
   "source": [
    "print(data)"
   ]
  }
 ],
 "metadata": {
  "kernelspec": {
   "display_name": "rapid",
   "language": "python",
   "name": "python3"
  },
  "language_info": {
   "codemirror_mode": {
    "name": "ipython",
    "version": 3
   },
   "file_extension": ".py",
   "mimetype": "text/x-python",
   "name": "python",
   "nbconvert_exporter": "python",
   "pygments_lexer": "ipython3",
   "version": "3.10.12"
  },
  "orig_nbformat": 4,
  "vscode": {
   "interpreter": {
    "hash": "865be0f49a4428ffe81954f0bab274448f0150cbaa546fff5159e8fd61478b08"
   }
  }
 },
 "nbformat": 4,
 "nbformat_minor": 2
}
