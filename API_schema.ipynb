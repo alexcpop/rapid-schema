{
 "cells": [
  {
   "cell_type": "code",
   "execution_count": 1,
   "metadata": {},
   "outputs": [],
   "source": [
    "# Packages\n",
    "\n",
    "import pandas as pd\n",
    "import requests\n",
    "import json\n",
    "from dotenv import load_dotenv\n",
    "import os\n",
    "load_dotenv()\n",
    "from rapid import Rapid\n",
    "from rapid import RapidAuth \n",
    "from rapid.items.schema import SchemaMetadata, SensitivityLevel, Owner, Column\n",
    "from rapid.exceptions import ColumnNotDifferentException, DataFrameUploadValidationException\n",
    "from rapid.patterns import dataset"
   ]
  },
  {
   "cell_type": "code",
   "execution_count": 2,
   "metadata": {},
   "outputs": [],
   "source": [
    "# Connect to the API\n",
    "rapid_authentication = RapidAuth()\n",
    "\n",
    "rapid = Rapid(auth=rapid_authentication)"
   ]
  },
  {
   "cell_type": "code",
   "execution_count": 3,
   "metadata": {},
   "outputs": [],
   "source": [
    "# Create and upload schema\n",
    "\n",
    "\n",
    "raw_data = [{\"a\": 1, \"b\": 2, \"c\": 3}, {\"a\": 10, \"b\": 20, \"c\": 30}]\n",
    "df = pd.DataFrame(raw_data)\n",
    "\n",
    "metadata = SchemaMetadata(\n",
    "    layer=\"default\",\n",
    "    domain=\"test\",\n",
    "    dataset=\"test_dummy\",\n",
    "    owners=[Owner(name=\"Alex P\", email=\"alexandra.pop@digital.cabinet-office.gov.uk\")],\n",
    "    sensitivity=SensitivityLevel.PUBLIC.value,\n",
    ")\n",
    "\n",
    "try:\n",
    "    dataset.upload_and_create_dataset(\n",
    "        rapid=rapid,\n",
    "        df=df,\n",
    "        metadata=metadata,\n",
    "        upgrade_schema_on_fail=False,\n",
    "    )\n",
    "except ColumnNotDifferentException:\n",
    "    print(\"Columns not different.\")"
   ]
  },
  {
   "cell_type": "code",
   "execution_count": 9,
   "metadata": {},
   "outputs": [],
   "source": [
    "# Update schema with upload\n",
    "\n",
    "\n",
    "raw_data = [{\"a\": 6, \"b\": 7, \"c\": 2}, {\"a\": 11, \"b\": 24, \"c\": 43}]\n",
    "df = pd.DataFrame(raw_data)\n",
    "\n",
    "try:\n",
    "    response= rapid.upload_dataframe(\n",
    "        layer=\"default\",\n",
    "        domain=\"test\",\n",
    "        dataset=\"test_dummy\",\n",
    "        df=df,\n",
    "        wait_to_complete=True\n",
    "    )\n",
    "except ColumnNotDifferentException:\n",
    "    print(\"Columns not different.\")"
   ]
  },
  {
   "cell_type": "code",
   "execution_count": 11,
   "metadata": {},
   "outputs": [],
   "source": [
    "# Fetch dataset info from API\n",
    "\n",
    "data = rapid.fetch_dataset_info(\n",
    "        layer=\"default\", domain=\"test\", dataset=\"test_dummy\")\n"
   ]
  },
  {
   "cell_type": "code",
   "execution_count": 12,
   "metadata": {},
   "outputs": [
    {
     "data": {
      "text/plain": [
       "{'metadata': {'layer': 'default',\n",
       "  'domain': 'test',\n",
       "  'dataset': 'test_dummy',\n",
       "  'version': 1,\n",
       "  'sensitivity': 'PUBLIC',\n",
       "  'description': '',\n",
       "  'key_value_tags': {},\n",
       "  'key_only_tags': [],\n",
       "  'owners': [{'name': 'Alex P',\n",
       "    'email': 'alexandra.pop@digital.cabinet-office.gov.uk'}],\n",
       "  'update_behaviour': 'APPEND',\n",
       "  'is_latest_version': True,\n",
       "  'number_of_rows': 8,\n",
       "  'number_of_columns': 3,\n",
       "  'last_updated': 'Never updated'},\n",
       " 'columns': [{'name': 'a',\n",
       "   'partition_index': None,\n",
       "   'data_type': 'int',\n",
       "   'allow_null': True,\n",
       "   'format': None,\n",
       "   'statistics': None},\n",
       "  {'name': 'b',\n",
       "   'partition_index': None,\n",
       "   'data_type': 'int',\n",
       "   'allow_null': True,\n",
       "   'format': None,\n",
       "   'statistics': None},\n",
       "  {'name': 'c',\n",
       "   'partition_index': None,\n",
       "   'data_type': 'int',\n",
       "   'allow_null': True,\n",
       "   'format': None,\n",
       "   'statistics': None}]}"
      ]
     },
     "execution_count": 12,
     "metadata": {},
     "output_type": "execute_result"
    }
   ],
   "source": [
    "data"
   ]
  },
  {
   "cell_type": "code",
   "execution_count": null,
   "metadata": {},
   "outputs": [],
   "source": [
    "# Delete test_dummy dataset\n",
    "\n",
    "\n"
   ]
  },
  {
   "cell_type": "code",
   "execution_count": 15,
   "metadata": {},
   "outputs": [
    {
     "name": "stdout",
     "output_type": "stream",
     "text": [
      "<class 'pandas.core.frame.DataFrame'>\n",
      "Index: 8 entries, 0 to 7\n",
      "Data columns (total 3 columns):\n",
      " #   Column  Non-Null Count  Dtype\n",
      "---  ------  --------------  -----\n",
      " 0   a       8 non-null      int64\n",
      " 1   b       8 non-null      int64\n",
      " 2   c       8 non-null      int64\n",
      "dtypes: int64(3)\n",
      "memory usage: 256.0 bytes\n"
     ]
    },
    {
     "name": "stderr",
     "output_type": "stream",
     "text": [
      "/Users/alexandra.pop/opt/anaconda3/envs/rapid/lib/python3.10/site-packages/rapid/rapid.py:140: FutureWarning: Passing literal json to 'read_json' is deprecated and will be removed in a future version. To read from a literal string, wrap it in a 'StringIO' object.\n",
      "  return pd.read_json(json.dumps(data), orient=\"index\")\n"
     ]
    }
   ],
   "source": [
    "# Download dataset\n",
    "\n",
    "data = rapid.download_dataframe(\n",
    "        layer=\"default\", domain=\"test\", dataset=\"test_dummy\", version=1)\n"
   ]
  },
  {
   "cell_type": "code",
   "execution_count": 18,
   "metadata": {},
   "outputs": [
    {
     "name": "stdout",
     "output_type": "stream",
     "text": [
      "<class 'pandas.core.frame.DataFrame'>\n",
      "Index: 8 entries, 0 to 7\n",
      "Data columns (total 3 columns):\n",
      " #   Column  Non-Null Count  Dtype\n",
      "---  ------  --------------  -----\n",
      " 0   a       8 non-null      int64\n",
      " 1   b       8 non-null      int64\n",
      " 2   c       8 non-null      int64\n",
      "dtypes: int64(3)\n",
      "memory usage: 256.0 bytes\n"
     ]
    }
   ],
   "source": [
    "data.info()"
   ]
  },
  {
   "cell_type": "code",
   "execution_count": 19,
   "metadata": {},
   "outputs": [
    {
     "name": "stdout",
     "output_type": "stream",
     "text": [
      "    a   b   c\n",
      "0   1   2   3\n",
      "1  10  20  30\n",
      "2   6   7   2\n",
      "3  11  24  43\n",
      "4   6   7   2\n",
      "5   1   2   3\n",
      "6  10  20  30\n",
      "7  11  24  43\n"
     ]
    }
   ],
   "source": [
    "print(data)"
   ]
  }
 ],
 "metadata": {
  "kernelspec": {
   "display_name": "rapid",
   "language": "python",
   "name": "python3"
  },
  "language_info": {
   "codemirror_mode": {
    "name": "ipython",
    "version": 3
   },
   "file_extension": ".py",
   "mimetype": "text/x-python",
   "name": "python",
   "nbconvert_exporter": "python",
   "pygments_lexer": "ipython3",
   "version": "3.10.12"
  },
  "orig_nbformat": 4,
  "vscode": {
   "interpreter": {
    "hash": "865be0f49a4428ffe81954f0bab274448f0150cbaa546fff5159e8fd61478b08"
   }
  }
 },
 "nbformat": 4,
 "nbformat_minor": 2
}
