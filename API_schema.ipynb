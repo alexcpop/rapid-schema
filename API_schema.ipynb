{
 "cells": [
  {
   "cell_type": "code",
   "execution_count": 9,
   "metadata": {},
   "outputs": [],
   "source": [
    "# Packages\n",
    "\n",
    "import pandas as pd\n",
    "import json\n",
    "from dotenv import load_dotenv\n",
    "import os\n",
    "load_dotenv()\n",
    "from rapid.rapid import Rapid\n",
    "from rapid.auth import RapidAuth \n",
    "from rapid.items.schema import SchemaMetadata, SensitivityLevel, Owner, Column\n",
    "from rapid.exceptions import ColumnNotDifferentException\n",
    "from rapid.patterns import data"
   ]
  },
  {
   "cell_type": "code",
   "execution_count": 10,
   "metadata": {},
   "outputs": [],
   "source": [
    "# Connect to the API\n",
    "\n",
    "rapid_authentication = RapidAuth()\n",
    "rapid = Rapid(auth=rapid_authentication)"
   ]
  },
  {
   "cell_type": "code",
   "execution_count": 6,
   "metadata": {},
   "outputs": [
    {
     "ename": "NameError",
     "evalue": "name 'ColumnNotDifferentException' is not defined",
     "output_type": "error",
     "traceback": [
      "\u001b[0;31m---------------------------------------------------------------------------\u001b[0m",
      "\u001b[0;31mNameError\u001b[0m                                 Traceback (most recent call last)",
      "Cell \u001b[0;32mIn[6], line 15\u001b[0m\n\u001b[1;32m     14\u001b[0m \u001b[39mtry\u001b[39;00m:\n\u001b[0;32m---> 15\u001b[0m     data\u001b[39m.\u001b[39mupload_and_create_dataset(\n\u001b[1;32m     16\u001b[0m         rapid\u001b[39m=\u001b[39mrapid,\n\u001b[1;32m     17\u001b[0m         df\u001b[39m=\u001b[39mdf,\n\u001b[1;32m     18\u001b[0m         metadata\u001b[39m=\u001b[39mmetadata,\n\u001b[1;32m     19\u001b[0m         upgrade_schema_on_fail\u001b[39m=\u001b[39m\u001b[39mFalse\u001b[39;00m,\n\u001b[1;32m     20\u001b[0m     )\n\u001b[1;32m     21\u001b[0m \u001b[39mexcept\u001b[39;00m ColumnNotDifferentException:\n",
      "\u001b[0;31mNameError\u001b[0m: name 'data' is not defined",
      "\nDuring handling of the above exception, another exception occurred:\n",
      "\u001b[0;31mNameError\u001b[0m                                 Traceback (most recent call last)",
      "Cell \u001b[0;32mIn[6], line 21\u001b[0m\n\u001b[1;32m     14\u001b[0m \u001b[39mtry\u001b[39;00m:\n\u001b[1;32m     15\u001b[0m     data\u001b[39m.\u001b[39mupload_and_create_dataset(\n\u001b[1;32m     16\u001b[0m         rapid\u001b[39m=\u001b[39mrapid,\n\u001b[1;32m     17\u001b[0m         df\u001b[39m=\u001b[39mdf,\n\u001b[1;32m     18\u001b[0m         metadata\u001b[39m=\u001b[39mmetadata,\n\u001b[1;32m     19\u001b[0m         upgrade_schema_on_fail\u001b[39m=\u001b[39m\u001b[39mFalse\u001b[39;00m,\n\u001b[1;32m     20\u001b[0m     )\n\u001b[0;32m---> 21\u001b[0m \u001b[39mexcept\u001b[39;00m ColumnNotDifferentException:\n\u001b[1;32m     22\u001b[0m     \u001b[39mprint\u001b[39m(\u001b[39m\"\u001b[39m\u001b[39mColumns not different.\u001b[39m\u001b[39m\"\u001b[39m)\n",
      "\u001b[0;31mNameError\u001b[0m: name 'ColumnNotDifferentException' is not defined"
     ]
    }
   ],
   "source": [
    "rapid = Rapid()\n",
    "\n",
    "raw_data = [{\"a\": 1, \"b\": 2, \"c\": 3}, {\"a\": 10, \"b\": 20, \"c\": 30}]\n",
    "df = pd.DataFrame(raw_data)\n",
    "\n",
    "metadata = SchemaMetadata(\n",
    "    layer=\"default\",\n",
    "    domain=\"test\",\n",
    "    dataset=\"test_dummy\",\n",
    "    owners=[Owner(name=\"myname\", email=\"myemail@email.com\")],\n",
    "    sensitivity=SensitivityLevel.PUBLIC.value,\n",
    ")\n",
    "\n",
    "try:\n",
    "    data.upload_and_create_dataset(\n",
    "        rapid=rapid,\n",
    "        df=df,\n",
    "        metadata=metadata,\n",
    "        upgrade_schema_on_fail=False,\n",
    "    )\n",
    "except ColumnNotDifferentException:\n",
    "    print(\"Columns not different.\")"
   ]
  },
  {
   "cell_type": "code",
   "execution_count": 3,
   "metadata": {},
   "outputs": [
    {
     "name": "stdout",
     "output_type": "stream",
     "text": [
      "Domain test\n",
      "name='column_1' data_type='int' partition_index=None allow_null=True format=None\n",
      "name='column_2' data_type='string' partition_index=None allow_null=True format=None\n"
     ]
    }
   ],
   "source": [
    "# Create a dummy schema\n",
    "#df = pd.DataFrame({\n",
    "#    \"column_1\":[1,3,5,7,9],\n",
    "#    \"column_2\":[\"Phoebe\", \"Chandler\", \"Ross\", \"Monica\", \"Rachel\"]\n",
    "#})\n",
    "\n",
    "# Specifying data types\n",
    "#df['column_1'] = df['column_1'].astype(int)  \n",
    "#df['column_2'] = df['column_2'].astype(str) \n",
    " \n",
    "\n",
    "# Initializing Rapid and generating schema\n",
    "#rapid = Rapid()\n",
    "\n",
    "#schema = rapid.generate_schema(\n",
    "#    df=df, layer=\"default\", domain=\"test\", dataset=\"test_dummy\", sensitivity=\"PUBLIC\"\n",
    "#)\n",
    "\n",
    "#metadata = SchemaMetadata(\n",
    "#    layer=\"default\",\n",
    "#    domain=\"test\",\n",
    "#    dataset=\"test_dummy\",\n",
    "#    owners=[Owner(name=\"AlexP\", email=\"alexandra.pop@digital.cabinet-office.gov.uk\")],\n",
    "#    _sensitivity=\"PUBLIC\",\n",
    "#)\n",
    "\n",
    "\n",
    "#print(\"Domain\", schema.metadata.domain)\n",
    "\n",
    "# Printing each column in the schema\n",
    "#for column in schema.columns:\n",
    "#    print(column)"
   ]
  },
  {
   "cell_type": "code",
   "execution_count": 4,
   "metadata": {},
   "outputs": [
    {
     "ename": "DatasetNotFoundException",
     "evalue": "('Could not find dataset, default/test/test_dummy to download', {'details': 'Could not find the schema for dataset layer [default], domain [test] and dataset [test_dummy]'})",
     "output_type": "error",
     "traceback": [
      "\u001b[0;31m---------------------------------------------------------------------------\u001b[0m",
      "\u001b[0;31mDatasetNotFoundException\u001b[0m                  Traceback (most recent call last)",
      "Cell \u001b[0;32mIn[4], line 3\u001b[0m\n\u001b[1;32m      1\u001b[0m \u001b[39m# Download schema\u001b[39;00m\n\u001b[0;32m----> 3\u001b[0m data \u001b[39m=\u001b[39m rapid\u001b[39m.\u001b[39;49mdownload_dataframe(\n\u001b[1;32m      4\u001b[0m     layer\u001b[39m=\u001b[39;49m\u001b[39m\"\u001b[39;49m\u001b[39mdefault\u001b[39;49m\u001b[39m\"\u001b[39;49m, domain\u001b[39m=\u001b[39;49m\u001b[39m\"\u001b[39;49m\u001b[39mtest\u001b[39;49m\u001b[39m\"\u001b[39;49m, dataset\u001b[39m=\u001b[39;49m\u001b[39m\"\u001b[39;49m\u001b[39mtest_dummy\u001b[39;49m\u001b[39m\"\u001b[39;49m, version\u001b[39m=\u001b[39;49m\u001b[39m1\u001b[39;49m\n\u001b[1;32m      5\u001b[0m )\n\u001b[1;32m      7\u001b[0m \u001b[39mprint\u001b[39m(data\u001b[39m.\u001b[39minfo())\n",
      "File \u001b[0;32m~/opt/anaconda3/lib/python3.9/site-packages/rapid/rapid.py:142\u001b[0m, in \u001b[0;36mRapid.download_dataframe\u001b[0;34m(self, layer, domain, dataset, version, query)\u001b[0m\n\u001b[1;32m    139\u001b[0m \u001b[39mif\u001b[39;00m response\u001b[39m.\u001b[39mstatus_code \u001b[39m==\u001b[39m \u001b[39m200\u001b[39m:\n\u001b[1;32m    140\u001b[0m     \u001b[39mreturn\u001b[39;00m pd\u001b[39m.\u001b[39mread_json(json\u001b[39m.\u001b[39mdumps(data), orient\u001b[39m=\u001b[39m\u001b[39m\"\u001b[39m\u001b[39mindex\u001b[39m\u001b[39m\"\u001b[39m)\n\u001b[0;32m--> 142\u001b[0m \u001b[39mraise\u001b[39;00m DatasetNotFoundException(\n\u001b[1;32m    143\u001b[0m     \u001b[39mf\u001b[39m\u001b[39m\"\u001b[39m\u001b[39mCould not find dataset, \u001b[39m\u001b[39m{\u001b[39;00mlayer\u001b[39m}\u001b[39;00m\u001b[39m/\u001b[39m\u001b[39m{\u001b[39;00mdomain\u001b[39m}\u001b[39;00m\u001b[39m/\u001b[39m\u001b[39m{\u001b[39;00mdataset\u001b[39m}\u001b[39;00m\u001b[39m to download\u001b[39m\u001b[39m\"\u001b[39m, data\n\u001b[1;32m    144\u001b[0m )\n",
      "\u001b[0;31mDatasetNotFoundException\u001b[0m: ('Could not find dataset, default/test/test_dummy to download', {'details': 'Could not find the schema for dataset layer [default], domain [test] and dataset [test_dummy]'})"
     ]
    }
   ],
   "source": [
    "# Download schema\n",
    "\n",
    "data = rapid.download_dataframe(\n",
    "    layer=\"default\", domain=\"test\", dataset=\"test_dummy\", version=1\n",
    ")\n",
    "\n",
    "print(data.info())"
   ]
  },
  {
   "cell_type": "code",
   "execution_count": null,
   "metadata": {},
   "outputs": [],
   "source": []
  }
 ],
 "metadata": {
  "kernelspec": {
   "display_name": "BOUM_DashEnv",
   "language": "python",
   "name": "boum_dashenv"
  },
  "language_info": {
   "codemirror_mode": {
    "name": "ipython",
    "version": 3
   },
   "file_extension": ".py",
   "mimetype": "text/x-python",
   "name": "python",
   "nbconvert_exporter": "python",
   "pygments_lexer": "ipython3",
   "version": "3.9.18"
  },
  "orig_nbformat": 4,
  "vscode": {
   "interpreter": {
    "hash": "835fc9df3cadc2c17877ef38db271ac3c302eef7bd15536e0971b3406bf1b5c3"
   }
  }
 },
 "nbformat": 4,
 "nbformat_minor": 2
}
